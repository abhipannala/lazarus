{
 "cells": [
  {
   "cell_type": "markdown",
   "metadata": {
    "_uuid": "b0f2b5e3a26327f3f74e3acb394fe55b4856489e"
   },
   "source": [
    "# Introduction \n",
    "\n",
    "Dataset shift: It occurs when the joint distribution of input and target variables differs across training and test datasets.\n",
    "\n",
    "Covariate shift: Is the issue when the input distributions is different for train and test set. In such case, it's important to create a validation set whose performance can generalize the test set performance as well.\n",
    "\n",
    "https://www.quora.com/In-machine-learning-what-is-dataset-shift\n",
    "\n",
    "Adversarial validation is a technique that can be used to check whether the distributions of train and test data are different or not. It helps to find rows in our training set that are very similar to our test set, and those set of instances can be used as the validation set as that is more closer to test set distributions. In other way, while training we can give more weights to instances which are similar to test dataset.\n",
    "    \n",
    "**Reference https://www.kaggle.com/kevinbonnes/adversarial-validation/data**"
   ]
  },
  {
   "cell_type": "code",
   "execution_count": 1,
   "metadata": {
    "_cell_guid": "b1076dfc-b9ad-4769-8c92-a6c4dae69d19",
    "_uuid": "8f2839f25d086af736a60e9eeb907d3b93b6e0e5",
    "collapsed": true
   },
   "outputs": [],
   "source": [
    "# Load libraries\n",
    "import numpy as np\n",
    "import pandas as pd\n",
    "import gc\n",
    "import datetime\n",
    "\n",
    "from sklearn.model_selection import KFold\n",
    "import lightgbm as lgb\n",
    "import time\n",
    "start = time.time()\n",
    "\n",
    "# Params\n",
    "NFOLD = 5"
   ]
  },
  {
   "cell_type": "code",
   "execution_count": 2,
   "metadata": {
    "_cell_guid": "79c7e3d0-c299-4dcb-8224-4455121ee9b0",
    "_uuid": "d629ff2d2480ee46fbb7e2d37f6b5fab8052498a"
   },
   "outputs": [
    {
     "data": {
      "text/plain": [
       "28"
      ]
     },
     "execution_count": 2,
     "metadata": {},
     "output_type": "execute_result"
    }
   ],
   "source": [
    "# Load data\n",
    "train = pd.read_csv(\"train1.csv\",nrows= 4000)\n",
    "test = pd.read_csv(\"test1.csv\",nrows = 4000)\n",
    "\n",
    "# Mark train as 1, test as 0\n",
    "train['Is_train'] = 1\n",
    "test['Is_train'] = 0\n",
    "\n",
    "# Concat dataframes\n",
    "n_train = train.shape[0]\n",
    "df = pd.concat([train, test], axis = 0)\n",
    "del train, test\n",
    "gc.collect()"
   ]
  },
  {
   "cell_type": "code",
   "execution_count": 3,
   "metadata": {
    "_uuid": "c1db7ede9d1a51d76cc5e3d142f41cc2df01f394",
    "collapsed": true
   },
   "outputs": [],
   "source": [
    "# Remove columns with only one value in our training set\n",
    "predictors = list(df.columns.difference(['ID', 'target','Is_train']))\n",
    "df_train = df.iloc[:n_train].copy()\n",
    "cols_to_remove = [c for c in predictors if df_train[c].nunique() == 1]\n",
    "df.drop(cols_to_remove, axis=1, inplace=True)\n",
    "\n",
    "# Update column names\n",
    "predictors = list(df.columns.difference(['ID', 'target','Is_train']))\n",
    "\n",
    "# Get some basic meta features\n",
    "df['cols_mean'] = df[predictors].replace(0, np.NaN).mean(axis=1)\n",
    "df['cols_count'] = df[predictors].replace(0, np.NaN).count(axis=1)\n",
    "df['cols_sum'] = df[predictors].replace(0, np.NaN).sum(axis=1)\n",
    "df['cols_std'] = df[predictors].replace(0, np.NaN).std(axis=1)"
   ]
  },
  {
   "cell_type": "code",
   "execution_count": 4,
   "metadata": {
    "_uuid": "8c17503acbf649cc5b5df9e09b300b4557f677d6",
    "collapsed": true
   },
   "outputs": [],
   "source": [
    "# Prepare for training\n",
    "\n",
    "# Shuffle dataset\n",
    "df = df.iloc[np.random.permutation(len(df))]\n",
    "df.reset_index(drop = True, inplace = True)\n",
    "\n",
    "# Get target column name\n",
    "target = 'Is_train'\n",
    "\n",
    "# lgb params\n",
    "lgb_params = {\n",
    "        'boosting': 'gbdt',\n",
    "        'application': 'binary',\n",
    "        'metric': 'auc', \n",
    "        'learning_rate': 0.1,\n",
    "        'num_leaves': 32,\n",
    "        'max_depth': 8,\n",
    "        'bagging_fraction': 0.7,\n",
    "        'bagging_freq': 5,\n",
    "        'feature_fraction': 0.7,\n",
    "}\n",
    "\n",
    "# Get folds for k-fold CV\n",
    "folds = KFold(n_splits = NFOLD, shuffle = True, random_state = 0)\n",
    "fold = folds.split(df)\n",
    "    \n",
    "eval_score = 0\n",
    "n_estimators = 0\n",
    "eval_preds = np.zeros(df.shape[0])"
   ]
  },
  {
   "cell_type": "code",
   "execution_count": 5,
   "metadata": {
    "_uuid": "6099aa185a9d5313f9f4541438d8b4387508a552",
    "scrolled": true
   },
   "outputs": [
    {
     "name": "stdout",
     "output_type": "stream",
     "text": [
      "\n",
      "[2019-05-29 14:28:34] Fold 1 of 5\n",
      "Training until validation scores don't improve for 100 rounds.\n",
      "[100]\ttrain's auc: 0.96382\tvalid's auc: 0.904102\n",
      "[200]\ttrain's auc: 0.98603\tvalid's auc: 0.918199\n",
      "[300]\ttrain's auc: 0.993625\tvalid's auc: 0.929135\n",
      "[400]\ttrain's auc: 0.996985\tvalid's auc: 0.931644\n",
      "Early stopping, best iteration is:\n",
      "[342]\ttrain's auc: 0.995265\tvalid's auc: 0.932607\n",
      "\n",
      "Rounds: 342\n",
      "AUC:  0.932607486043\n",
      "\n",
      "[2019-05-29 14:28:53] Fold 2 of 5\n",
      "Training until validation scores don't improve for 100 rounds.\n",
      "[100]\ttrain's auc: 0.964621\tvalid's auc: 0.910017\n",
      "[200]\ttrain's auc: 0.986976\tvalid's auc: 0.923501\n",
      "[300]\ttrain's auc: 0.993992\tvalid's auc: 0.926411\n",
      "[400]\ttrain's auc: 0.99743\tvalid's auc: 0.926359\n",
      "Early stopping, best iteration is:\n",
      "[339]\ttrain's auc: 0.995811\tvalid's auc: 0.928215\n",
      "\n",
      "Rounds: 339\n",
      "AUC:  0.928215133478\n",
      "\n",
      "[2019-05-29 14:29:11] Fold 3 of 5\n",
      "Training until validation scores don't improve for 100 rounds.\n",
      "[100]\ttrain's auc: 0.964692\tvalid's auc: 0.880258\n",
      "[200]\ttrain's auc: 0.986711\tvalid's auc: 0.896773\n",
      "[300]\ttrain's auc: 0.994404\tvalid's auc: 0.904495\n",
      "[400]\ttrain's auc: 0.997325\tvalid's auc: 0.905135\n",
      "[500]\ttrain's auc: 0.998962\tvalid's auc: 0.906406\n",
      "[600]\ttrain's auc: 0.999605\tvalid's auc: 0.905464\n",
      "Early stopping, best iteration is:\n",
      "[577]\ttrain's auc: 0.999467\tvalid's auc: 0.907175\n",
      "\n",
      "Rounds: 577\n",
      "AUC:  0.907175280284\n",
      "\n",
      "[2019-05-29 14:29:34] Fold 4 of 5\n",
      "Training until validation scores don't improve for 100 rounds.\n",
      "[100]\ttrain's auc: 0.966888\tvalid's auc: 0.884216\n",
      "[200]\ttrain's auc: 0.987626\tvalid's auc: 0.898493\n",
      "[300]\ttrain's auc: 0.994815\tvalid's auc: 0.908491\n",
      "[400]\ttrain's auc: 0.997694\tvalid's auc: 0.913576\n",
      "[500]\ttrain's auc: 0.999192\tvalid's auc: 0.911928\n",
      "Early stopping, best iteration is:\n",
      "[404]\ttrain's auc: 0.997767\tvalid's auc: 0.914309\n",
      "\n",
      "Rounds: 404\n",
      "AUC:  0.914308799007\n",
      "\n",
      "[2019-05-29 14:29:48] Fold 5 of 5\n",
      "Training until validation scores don't improve for 100 rounds.\n",
      "[100]\ttrain's auc: 0.965916\tvalid's auc: 0.879986\n",
      "[200]\ttrain's auc: 0.987028\tvalid's auc: 0.898668\n",
      "[300]\ttrain's auc: 0.994489\tvalid's auc: 0.905973\n",
      "[400]\ttrain's auc: 0.997498\tvalid's auc: 0.909563\n",
      "[500]\ttrain's auc: 0.999054\tvalid's auc: 0.909795\n",
      "Early stopping, best iteration is:\n",
      "[410]\ttrain's auc: 0.997791\tvalid's auc: 0.910493\n",
      "\n",
      "Rounds: 410\n",
      "AUC:  0.910493233877\n",
      "\n",
      "Model Report\n",
      "Rounds:  414\n",
      "AUC:  0.91856\n"
     ]
    }
   ],
   "source": [
    "# Run LightGBM for each fold\n",
    "for i, (train_index, test_index) in enumerate(fold):\n",
    "    print( \"\\n[{}] Fold {} of {}\".format(datetime.datetime.now().strftime(\"%Y-%m-%d %H:%M:%S\"), i+1, NFOLD))\n",
    "    train_X, valid_X = df[predictors].values[train_index], df[predictors].values[test_index]\n",
    "    train_y, valid_y = df[target].values[train_index], df[target].values[test_index]\n",
    "\n",
    "    dtrain = lgb.Dataset(train_X, label = train_y,\n",
    "                          feature_name = list(predictors)\n",
    "                          )\n",
    "    dvalid = lgb.Dataset(valid_X, label = valid_y,\n",
    "                          feature_name = list(predictors)\n",
    "                          )\n",
    "        \n",
    "    eval_results = {}\n",
    "    \n",
    "    bst = lgb.train(lgb_params, \n",
    "                         dtrain, \n",
    "                         valid_sets = [dtrain, dvalid], \n",
    "                         valid_names = ['train', 'valid'], \n",
    "                         evals_result = eval_results, \n",
    "                         num_boost_round = 5000,\n",
    "                         early_stopping_rounds = 100,\n",
    "                         verbose_eval = 100)\n",
    "    \n",
    "    print(\"\\nRounds:\", bst.best_iteration)\n",
    "    print(\"AUC: \", eval_results['valid']['auc'][bst.best_iteration-1])\n",
    "\n",
    "    n_estimators += bst.best_iteration\n",
    "    eval_score += eval_results['valid']['auc'][bst.best_iteration-1]\n",
    "   \n",
    "    eval_preds[test_index] += bst.predict(valid_X, num_iteration = bst.best_iteration)\n",
    "    \n",
    "n_estimators = int(round(n_estimators/NFOLD,0))\n",
    "eval_score = round(eval_score/NFOLD,6)\n",
    "\n",
    "print(\"\\nModel Report\")\n",
    "print(\"Rounds: \", n_estimators)\n",
    "print(\"AUC: \", eval_score)    "
   ]
  },
  {
   "cell_type": "code",
   "execution_count": 6,
   "metadata": {
    "_uuid": "9be534b35a88366312600f4d74808452b983cd5d"
   },
   "outputs": [
    {
     "data": {
      "text/plain": [
       "<matplotlib.axes._subplots.AxesSubplot at 0x207099d6518>"
      ]
     },
     "execution_count": 6,
     "metadata": {},
     "output_type": "execute_result"
    },
    {
     "data": {
      "image/png": "[encoded data removed]",
      "text/plain": [
       "<Figure size 432x288 with 1 Axes>"
      ]
     },
     "metadata": {},
     "output_type": "display_data"
    }
   ],
   "source": [
    "# Feature importance\n",
    "import matplotlib.pyplot as plt\n",
    "%matplotlib inline\n",
    "lgb.plot_importance(bst, max_num_features = 20)\n"
   ]
  },
  {
   "cell_type": "code",
   "execution_count": 7,
   "metadata": {
    "_uuid": "eb01bae182275fbbf7cea81310fc99b0db4024e4"
   },
   "outputs": [
    {
     "data": {
      "text/plain": [
       "<matplotlib.axes._subplots.AxesSubplot at 0x20709bbe8d0>"
      ]
     },
     "execution_count": 7,
     "metadata": {},
     "output_type": "execute_result"
    },
    {
     "data": {
      "image/png": "[encoded data removed]",
      "text/plain": [
       "<Figure size 432x288 with 1 Axes>"
      ]
     },
     "metadata": {},
     "output_type": "display_data"
    }
   ],
   "source": [
    "# Get training rows that are most similar to test\n",
    "df_av = df[['ID', 'Is_train']].copy()\n",
    "df_av['preds'] = eval_preds\n",
    "df_av_train = df_av[df_av.Is_train == 1]\n",
    "df_av_train = df_av_train.sort_values(by=['preds']).reset_index(drop=True)\n",
    "\n",
    "# Check distribution\n",
    "df_av_train.preds.plot()\n",
    "\n",
    "# Store to feather\n",
    "# df_av_train[['ID', 'preds']].reset_index(drop=True).to_feather('adversarial_validation.ft')"
   ]
  },
  {
   "cell_type": "code",
   "execution_count": 8,
   "metadata": {
    "_uuid": "acfe40f24c52915e3e094db51f67cbe8a08f4bbf"
   },
   "outputs": [
    {
     "data": {
      "text/html": [
       "<div>\n",
       "<style>\n",
       "    .dataframe thead tr:only-child th {\n",
       "        text-align: right;\n",
       "    }\n",
       "\n",
       "    .dataframe thead th {\n",
       "        text-align: left;\n",
       "    }\n",
       "\n",
       "    .dataframe tbody tr th {\n",
       "        vertical-align: top;\n",
       "    }\n",
       "</style>\n",
       "<table border=\"1\" class=\"dataframe\">\n",
       "  <thead>\n",
       "    <tr style=\"text-align: right;\">\n",
       "      <th></th>\n",
       "      <th>ID</th>\n",
       "      <th>Is_train</th>\n",
       "      <th>preds</th>\n",
       "    </tr>\n",
       "  </thead>\n",
       "  <tbody>\n",
       "    <tr>\n",
       "      <th>0</th>\n",
       "      <td>519365abd</td>\n",
       "      <td>1</td>\n",
       "      <td>0.019021</td>\n",
       "    </tr>\n",
       "    <tr>\n",
       "      <th>1</th>\n",
       "      <td>215895e0e</td>\n",
       "      <td>1</td>\n",
       "      <td>0.035502</td>\n",
       "    </tr>\n",
       "    <tr>\n",
       "      <th>2</th>\n",
       "      <td>b9293856c</td>\n",
       "      <td>1</td>\n",
       "      <td>0.045303</td>\n",
       "    </tr>\n",
       "    <tr>\n",
       "      <th>3</th>\n",
       "      <td>abe4b4ed3</td>\n",
       "      <td>1</td>\n",
       "      <td>0.046905</td>\n",
       "    </tr>\n",
       "    <tr>\n",
       "      <th>4</th>\n",
       "      <td>032818895</td>\n",
       "      <td>1</td>\n",
       "      <td>0.048610</td>\n",
       "    </tr>\n",
       "    <tr>\n",
       "      <th>5</th>\n",
       "      <td>5dae9db78</td>\n",
       "      <td>1</td>\n",
       "      <td>0.052776</td>\n",
       "    </tr>\n",
       "    <tr>\n",
       "      <th>6</th>\n",
       "      <td>b59f52012</td>\n",
       "      <td>1</td>\n",
       "      <td>0.058708</td>\n",
       "    </tr>\n",
       "    <tr>\n",
       "      <th>7</th>\n",
       "      <td>cccbc58f9</td>\n",
       "      <td>1</td>\n",
       "      <td>0.070264</td>\n",
       "    </tr>\n",
       "    <tr>\n",
       "      <th>8</th>\n",
       "      <td>68b943d55</td>\n",
       "      <td>1</td>\n",
       "      <td>0.071951</td>\n",
       "    </tr>\n",
       "    <tr>\n",
       "      <th>9</th>\n",
       "      <td>905c792a9</td>\n",
       "      <td>1</td>\n",
       "      <td>0.076664</td>\n",
       "    </tr>\n",
       "    <tr>\n",
       "      <th>10</th>\n",
       "      <td>98e3b094d</td>\n",
       "      <td>1</td>\n",
       "      <td>0.076940</td>\n",
       "    </tr>\n",
       "    <tr>\n",
       "      <th>11</th>\n",
       "      <td>00689ee2c</td>\n",
       "      <td>1</td>\n",
       "      <td>0.077113</td>\n",
       "    </tr>\n",
       "    <tr>\n",
       "      <th>12</th>\n",
       "      <td>6b32d4707</td>\n",
       "      <td>1</td>\n",
       "      <td>0.082739</td>\n",
       "    </tr>\n",
       "    <tr>\n",
       "      <th>13</th>\n",
       "      <td>9b7be2dc2</td>\n",
       "      <td>1</td>\n",
       "      <td>0.083003</td>\n",
       "    </tr>\n",
       "    <tr>\n",
       "      <th>14</th>\n",
       "      <td>73a76623c</td>\n",
       "      <td>1</td>\n",
       "      <td>0.087335</td>\n",
       "    </tr>\n",
       "    <tr>\n",
       "      <th>15</th>\n",
       "      <td>c8246807f</td>\n",
       "      <td>1</td>\n",
       "      <td>0.094913</td>\n",
       "    </tr>\n",
       "    <tr>\n",
       "      <th>16</th>\n",
       "      <td>9ef23b6e2</td>\n",
       "      <td>1</td>\n",
       "      <td>0.096032</td>\n",
       "    </tr>\n",
       "    <tr>\n",
       "      <th>17</th>\n",
       "      <td>abc65b3f2</td>\n",
       "      <td>1</td>\n",
       "      <td>0.098158</td>\n",
       "    </tr>\n",
       "    <tr>\n",
       "      <th>18</th>\n",
       "      <td>d313202b2</td>\n",
       "      <td>1</td>\n",
       "      <td>0.098474</td>\n",
       "    </tr>\n",
       "    <tr>\n",
       "      <th>19</th>\n",
       "      <td>3fb54ba3f</td>\n",
       "      <td>1</td>\n",
       "      <td>0.106306</td>\n",
       "    </tr>\n",
       "  </tbody>\n",
       "</table>\n",
       "</div>"
      ],
      "text/plain": [
       "           ID  Is_train     preds\n",
       "0   519365abd         1  0.019021\n",
       "1   215895e0e         1  0.035502\n",
       "2   b9293856c         1  0.045303\n",
       "3   abe4b4ed3         1  0.046905\n",
       "4   032818895         1  0.048610\n",
       "5   5dae9db78         1  0.052776\n",
       "6   b59f52012         1  0.058708\n",
       "7   cccbc58f9         1  0.070264\n",
       "8   68b943d55         1  0.071951\n",
       "9   905c792a9         1  0.076664\n",
       "10  98e3b094d         1  0.076940\n",
       "11  00689ee2c         1  0.077113\n",
       "12  6b32d4707         1  0.082739\n",
       "13  9b7be2dc2         1  0.083003\n",
       "14  73a76623c         1  0.087335\n",
       "15  c8246807f         1  0.094913\n",
       "16  9ef23b6e2         1  0.096032\n",
       "17  abc65b3f2         1  0.098158\n",
       "18  d313202b2         1  0.098474\n",
       "19  3fb54ba3f         1  0.106306"
      ]
     },
     "execution_count": 8,
     "metadata": {},
     "output_type": "execute_result"
    }
   ],
   "source": [
    "# Check first 20 rows\n",
    "df_av_train.head(20)"
   ]
  },
  {
   "cell_type": "code",
   "execution_count": 9,
   "metadata": {},
   "outputs": [
    {
     "name": "stdout",
     "output_type": "stream",
     "text": [
      "Total time taken:110.58810663223267\n"
     ]
    }
   ],
   "source": [
    "print(\"Total time taken:{}\".format(time.time()-start))"
   ]
  },
  {
   "cell_type": "code",
   "execution_count": null,
   "metadata": {
    "collapsed": true
   },
   "outputs": [],
   "source": []
  }
 ],
 "metadata": {
  "kernelspec": {
   "display_name": "Python 3",
   "language": "python",
   "name": "python3"
  },
  "language_info": {
   "codemirror_mode": {
    "name": "ipython",
    "version": 3
   },
   "file_extension": ".py",
   "mimetype": "text/x-python",
   "name": "python",
   "nbconvert_exporter": "python",
   "pygments_lexer": "ipython3",
   "version": "3.6.7"
  }
 },
 "nbformat": 4,
 "nbformat_minor": 1
}
